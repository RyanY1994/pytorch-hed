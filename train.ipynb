{
 "cells": [
  {
   "cell_type": "markdown",
   "metadata": {},
   "source": [
    "# Implementation of HED in Pytorch\n",
    "---\n"
   ]
  },
  {
   "cell_type": "code",
   "execution_count": null,
   "metadata": {},
   "outputs": [],
   "source": [
    "# import torch libraries\n",
    "import torch\n",
    "import torch.optim as optim\n",
    "from torch.utils.data import Dataset, DataLoader\n",
    "\n",
    "import os\n",
    "import numpy as np\n",
    "import pandas as pd\n",
    "import skimage.io as io\n",
    "import matplotlib.cm as cm\n",
    "import matplotlib.pyplot as plt\n",
    "\n",
    "# import utility functions\n",
    "from model import HED\n",
    "from trainer import Trainer\n",
    "from dataproc import BSDSDataset"
   ]
  },
  {
   "cell_type": "code",
   "execution_count": null,
   "metadata": {},
   "outputs": [],
   "source": [
    "# fix random seed\n",
    "rng = np.random.RandomState(37148)\n",
    "\n",
    "# GPU ID\n",
    "gpuID = 1"
   ]
  },
  {
   "cell_type": "markdown",
   "metadata": {},
   "source": [
    "### Preprocess and Setup Data"
   ]
  },
  {
   "cell_type": "code",
   "execution_count": null,
   "metadata": {},
   "outputs": [],
   "source": [
    "# load the images dataset\n",
    "dataRoot = 'data/HED-BSDS/'\n",
    "testPath = dataRoot+'test.lst'\n",
    "trainPath = dataRoot+'train_pair.lst'\n",
    "\n",
    "rootDir = dataRoot\n",
    "frame = pd.read_csv(trainPath, dtype=str, delimiter=' ')\n",
    "\n",
    "# check some sample images\n",
    "idx = 5\n",
    "\n",
    "# input and target images\n",
    "inputName = os.path.join(rootDir, frame.iloc[idx, 0])\n",
    "targetName = os.path.join(rootDir, frame.iloc[idx, 1])        \n",
    "\n",
    "# process the images\n",
    "inputImage = io.imread(inputName)\n",
    "inputImage = inputImage.astype(np.float32)\n",
    "inputImage = inputImage[:,:,::-1]\n",
    "\n",
    "targetImage = io.imread(targetName, as_grey=True)\n",
    "targetImage = targetImage > 0\n",
    "targetImage = targetImage.astype(np.float32)\n",
    "\n",
    "plt.figure()\n",
    "plt.imshow(inputImage)\n",
    "plt.show()\n",
    "\n",
    "plt.figure()\n",
    "plt.imshow(targetImage,cmap=cm.gray)\n",
    "plt.show()\n",
    "\n",
    "inputImage -= np.array((104.00698793,116.66876762,122.67891434))\n",
    "inputImage /= 255*np.array((0.225, 0.224, 0.229))\n",
    "print(inputImage.mean(axis=(0,1)), inputImage.std(axis=(0,1)))\n",
    "\n",
    "inputImage = inputImage.transpose((2,0,1))\n",
    "inputImage = np.expand_dims(inputImage, axis=0)\n",
    "inputImage = torch.from_numpy(np.flip(inputImage, axis=0).copy())\n",
    "\n",
    "targetImage = np.expand_dims(targetImage, axis=0)        \n",
    "targetImage = np.expand_dims(targetImage, axis=0)        \n",
    "targetImage = torch.from_numpy(targetImage)"
   ]
  },
  {
   "cell_type": "markdown",
   "metadata": {},
   "source": [
    "### Train the Network"
   ]
  },
  {
   "cell_type": "code",
   "execution_count": null,
   "metadata": {},
   "outputs": [],
   "source": [
    "# batch size\n",
    "nBatch = 1\n",
    "\n",
    "# load the images dataset\n",
    "dataRoot = 'data/HED-BSDS/'\n",
    "valPath = dataRoot+'val_pair.lst'\n",
    "trainPath = dataRoot+'train_pair.lst'\n",
    "\n",
    "# create data loaders from dataset\n",
    "valDataset = BSDSDataset(valPath, dataRoot)\n",
    "trainDataset = BSDSDataset(trainPath, dataRoot)\n",
    "\n",
    "valDataloader = DataLoader(valDataset, batch_size=nBatch)\n",
    "trainDataloader = DataLoader(trainDataset, batch_size=nBatch)"
   ]
  },
  {
   "cell_type": "code",
   "execution_count": null,
   "metadata": {
    "scrolled": true
   },
   "outputs": [],
   "source": [
    "# initialize the network\n",
    "net = HED()\n",
    "net.cuda(gpuID)\n",
    "\n",
    "# define the optimizer\n",
    "optimizer = optim.SGD(net.parameters(), lr=1e-5, momentum=0.9, weight_decay=0.0002)\n",
    "\n",
    "# initialize trainer class\n",
    "trainer = Trainer(net, optimizer, trainDataloader, valDataloader, cuda=True, gpuID=gpuID)\n",
    "\n",
    "# train the network\n",
    "trainer.train()"
   ]
  }
 ],
 "metadata": {
  "kernelspec": {
   "display_name": "Python 3",
   "language": "python",
   "name": "python3"
  },
  "language_info": {
   "codemirror_mode": {
    "name": "ipython",
    "version": 3
   },
   "file_extension": ".py",
   "mimetype": "text/x-python",
   "name": "python",
   "nbconvert_exporter": "python",
   "pygments_lexer": "ipython3",
   "version": "3.5.2"
  }
 },
 "nbformat": 4,
 "nbformat_minor": 2
}
